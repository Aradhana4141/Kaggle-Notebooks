{
 "cells": [
  {
   "cell_type": "code",
   "execution_count": 1,
   "id": "f6e34ff2",
   "metadata": {
    "_cell_guid": "b1076dfc-b9ad-4769-8c92-a6c4dae69d19",
    "_uuid": "8f2839f25d086af736a60e9eeb907d3b93b6e0e5",
    "execution": {
     "iopub.execute_input": "2025-07-25T16:18:15.276223Z",
     "iopub.status.busy": "2025-07-25T16:18:15.275238Z",
     "iopub.status.idle": "2025-07-25T16:18:17.248599Z",
     "shell.execute_reply": "2025-07-25T16:18:17.247452Z"
    },
    "papermill": {
     "duration": 1.980992,
     "end_time": "2025-07-25T16:18:17.250224",
     "exception": false,
     "start_time": "2025-07-25T16:18:15.269232",
     "status": "completed"
    },
    "tags": []
   },
   "outputs": [
    {
     "name": "stdout",
     "output_type": "stream",
     "text": [
      "/kaggle/input/test-file/tested.csv\n"
     ]
    }
   ],
   "source": [
    "# This Python 3 environment comes with many helpful analytics libraries installed\n",
    "# It is defined by the kaggle/python Docker image: https://github.com/kaggle/docker-python\n",
    "# For example, here's several helpful packages to load\n",
    "\n",
    "import numpy as np # linear algebra\n",
    "import pandas as pd # data processing, CSV file I/O (e.g. pd.read_csv)\n",
    "\n",
    "# Input data files are available in the read-only \"../input/\" directory\n",
    "# For example, running this (by clicking run or pressing Shift+Enter) will list all files under the input directory\n",
    "\n",
    "import os\n",
    "for dirname, _, filenames in os.walk('/kaggle/input'):\n",
    "    for filename in filenames:\n",
    "        print(os.path.join(dirname, filename))\n",
    "\n",
    "# You can write up to 20GB to the current directory (/kaggle/working/) that gets preserved as output when you create a version using \"Save & Run All\" \n",
    "# You can also write temporary files to /kaggle/temp/, but they won't be saved outside of the current session"
   ]
  },
  {
   "cell_type": "markdown",
   "id": "3bf64eea",
   "metadata": {
    "papermill": {
     "duration": 0.003361,
     "end_time": "2025-07-25T16:18:17.257677",
     "exception": false,
     "start_time": "2025-07-25T16:18:17.254316",
     "status": "completed"
    },
    "tags": []
   },
   "source": [
    "# 📊 Titanic Dataset: Descriptive Statistics & Visual Insights\n",
    "\n",
    "This notebook explores the Titanic dataset using basic statistics and visualizations. We'll cover:\n",
    "- Measures of central tendency (mean, median, mode)\n",
    "- Measures of variability (range, variance, standard deviation)\n",
    "- Data visualization (histogram, bar chart, pie chart, box plot)\n",
    "\n",
    "Let's begin! 🚀\n"
   ]
  },
  {
   "cell_type": "code",
   "execution_count": 2,
   "id": "5610700b",
   "metadata": {
    "execution": {
     "iopub.execute_input": "2025-07-25T16:18:17.266225Z",
     "iopub.status.busy": "2025-07-25T16:18:17.265840Z",
     "iopub.status.idle": "2025-07-25T16:18:17.295506Z",
     "shell.execute_reply": "2025-07-25T16:18:17.294435Z"
    },
    "papermill": {
     "duration": 0.035872,
     "end_time": "2025-07-25T16:18:17.297254",
     "exception": false,
     "start_time": "2025-07-25T16:18:17.261382",
     "status": "completed"
    },
    "tags": []
   },
   "outputs": [],
   "source": [
    "import numpy as np\n",
    "import pandas as pd \n",
    "\n",
    "# Load Titanic dataset\n",
    "df = pd.read_csv('/kaggle/input/test-file/tested.csv')\n",
    "\n"
   ]
  },
  {
   "cell_type": "code",
   "execution_count": 3,
   "id": "d1cb2e72",
   "metadata": {
    "execution": {
     "iopub.execute_input": "2025-07-25T16:18:17.305936Z",
     "iopub.status.busy": "2025-07-25T16:18:17.305638Z",
     "iopub.status.idle": "2025-07-25T16:18:17.347838Z",
     "shell.execute_reply": "2025-07-25T16:18:17.346904Z"
    },
    "papermill": {
     "duration": 0.04834,
     "end_time": "2025-07-25T16:18:17.349438",
     "exception": false,
     "start_time": "2025-07-25T16:18:17.301098",
     "status": "completed"
    },
    "tags": []
   },
   "outputs": [
    {
     "data": {
      "text/html": [
       "<div>\n",
       "<style scoped>\n",
       "    .dataframe tbody tr th:only-of-type {\n",
       "        vertical-align: middle;\n",
       "    }\n",
       "\n",
       "    .dataframe tbody tr th {\n",
       "        vertical-align: top;\n",
       "    }\n",
       "\n",
       "    .dataframe thead th {\n",
       "        text-align: right;\n",
       "    }\n",
       "</style>\n",
       "<table border=\"1\" class=\"dataframe\">\n",
       "  <thead>\n",
       "    <tr style=\"text-align: right;\">\n",
       "      <th></th>\n",
       "      <th>PassengerId</th>\n",
       "      <th>Survived</th>\n",
       "      <th>Pclass</th>\n",
       "      <th>Name</th>\n",
       "      <th>Sex</th>\n",
       "      <th>Age</th>\n",
       "      <th>SibSp</th>\n",
       "      <th>Parch</th>\n",
       "      <th>Ticket</th>\n",
       "      <th>Fare</th>\n",
       "      <th>Cabin</th>\n",
       "      <th>Embarked</th>\n",
       "    </tr>\n",
       "  </thead>\n",
       "  <tbody>\n",
       "    <tr>\n",
       "      <th>0</th>\n",
       "      <td>892</td>\n",
       "      <td>0</td>\n",
       "      <td>3</td>\n",
       "      <td>Kelly, Mr. James</td>\n",
       "      <td>male</td>\n",
       "      <td>34.5</td>\n",
       "      <td>0</td>\n",
       "      <td>0</td>\n",
       "      <td>330911</td>\n",
       "      <td>7.8292</td>\n",
       "      <td>NaN</td>\n",
       "      <td>Q</td>\n",
       "    </tr>\n",
       "    <tr>\n",
       "      <th>1</th>\n",
       "      <td>893</td>\n",
       "      <td>1</td>\n",
       "      <td>3</td>\n",
       "      <td>Wilkes, Mrs. James (Ellen Needs)</td>\n",
       "      <td>female</td>\n",
       "      <td>47.0</td>\n",
       "      <td>1</td>\n",
       "      <td>0</td>\n",
       "      <td>363272</td>\n",
       "      <td>7.0000</td>\n",
       "      <td>NaN</td>\n",
       "      <td>S</td>\n",
       "    </tr>\n",
       "    <tr>\n",
       "      <th>2</th>\n",
       "      <td>894</td>\n",
       "      <td>0</td>\n",
       "      <td>2</td>\n",
       "      <td>Myles, Mr. Thomas Francis</td>\n",
       "      <td>male</td>\n",
       "      <td>62.0</td>\n",
       "      <td>0</td>\n",
       "      <td>0</td>\n",
       "      <td>240276</td>\n",
       "      <td>9.6875</td>\n",
       "      <td>NaN</td>\n",
       "      <td>Q</td>\n",
       "    </tr>\n",
       "    <tr>\n",
       "      <th>3</th>\n",
       "      <td>895</td>\n",
       "      <td>0</td>\n",
       "      <td>3</td>\n",
       "      <td>Wirz, Mr. Albert</td>\n",
       "      <td>male</td>\n",
       "      <td>27.0</td>\n",
       "      <td>0</td>\n",
       "      <td>0</td>\n",
       "      <td>315154</td>\n",
       "      <td>8.6625</td>\n",
       "      <td>NaN</td>\n",
       "      <td>S</td>\n",
       "    </tr>\n",
       "    <tr>\n",
       "      <th>4</th>\n",
       "      <td>896</td>\n",
       "      <td>1</td>\n",
       "      <td>3</td>\n",
       "      <td>Hirvonen, Mrs. Alexander (Helga E Lindqvist)</td>\n",
       "      <td>female</td>\n",
       "      <td>22.0</td>\n",
       "      <td>1</td>\n",
       "      <td>1</td>\n",
       "      <td>3101298</td>\n",
       "      <td>12.2875</td>\n",
       "      <td>NaN</td>\n",
       "      <td>S</td>\n",
       "    </tr>\n",
       "  </tbody>\n",
       "</table>\n",
       "</div>"
      ],
      "text/plain": [
       "   PassengerId  Survived  Pclass  \\\n",
       "0          892         0       3   \n",
       "1          893         1       3   \n",
       "2          894         0       2   \n",
       "3          895         0       3   \n",
       "4          896         1       3   \n",
       "\n",
       "                                           Name     Sex   Age  SibSp  Parch  \\\n",
       "0                              Kelly, Mr. James    male  34.5      0      0   \n",
       "1              Wilkes, Mrs. James (Ellen Needs)  female  47.0      1      0   \n",
       "2                     Myles, Mr. Thomas Francis    male  62.0      0      0   \n",
       "3                              Wirz, Mr. Albert    male  27.0      0      0   \n",
       "4  Hirvonen, Mrs. Alexander (Helga E Lindqvist)  female  22.0      1      1   \n",
       "\n",
       "    Ticket     Fare Cabin Embarked  \n",
       "0   330911   7.8292   NaN        Q  \n",
       "1   363272   7.0000   NaN        S  \n",
       "2   240276   9.6875   NaN        Q  \n",
       "3   315154   8.6625   NaN        S  \n",
       "4  3101298  12.2875   NaN        S  "
      ]
     },
     "execution_count": 3,
     "metadata": {},
     "output_type": "execute_result"
    }
   ],
   "source": [
    "df=df.drop_duplicates()\n",
    "df.head()"
   ]
  },
  {
   "cell_type": "markdown",
   "id": "4f1de3e1",
   "metadata": {
    "papermill": {
     "duration": 0.003706,
     "end_time": "2025-07-25T16:18:17.357265",
     "exception": false,
     "start_time": "2025-07-25T16:18:17.353559",
     "status": "completed"
    },
    "tags": []
   },
   "source": [
    "### 1. Central Tendency – Age\n",
    "\n",
    "**Mean:** Gives us the average age.  \n",
    "**Median:** The middle value when ages are sorted.  \n",
    "**Mode:** The most common age among passengers.\n",
    "\n",
    "> These measures help us understand the center of the data and whether it's skewed due to outliers.\n"
   ]
  },
  {
   "cell_type": "code",
   "execution_count": 4,
   "id": "3d90a092",
   "metadata": {
    "execution": {
     "iopub.execute_input": "2025-07-25T16:18:17.366346Z",
     "iopub.status.busy": "2025-07-25T16:18:17.366060Z",
     "iopub.status.idle": "2025-07-25T16:18:17.376147Z",
     "shell.execute_reply": "2025-07-25T16:18:17.374870Z"
    },
    "papermill": {
     "duration": 0.016562,
     "end_time": "2025-07-25T16:18:17.377723",
     "exception": false,
     "start_time": "2025-07-25T16:18:17.361161",
     "status": "completed"
    },
    "tags": []
   },
   "outputs": [
    {
     "name": "stdout",
     "output_type": "stream",
     "text": [
      "Mean of age is= 30.272590361445783\n",
      "Mode of age is= 0    21.0\n",
      "1    24.0\n",
      "Name: Age, dtype: float64\n",
      "Median of age is= 27.0\n"
     ]
    }
   ],
   "source": [
    "import numpy as np\n",
    "print(\"Mean of age is=\",df['Age'].mean())\n",
    "print(\"Mode of age is=\",df['Age'].mode())\n",
    "print(\"Median of age is=\",df['Age'].median())"
   ]
  },
  {
   "cell_type": "markdown",
   "id": "2311c1a6",
   "metadata": {
    "papermill": {
     "duration": 0.003524,
     "end_time": "2025-07-25T16:18:17.385270",
     "exception": false,
     "start_time": "2025-07-25T16:18:17.381746",
     "status": "completed"
    },
    "tags": []
   },
   "source": [
    "**Insight for Age**:\n",
    "Most passengers on the Titanic were young adults.\n",
    "\n",
    "The average age was around 30 years, but the middle age (median) was 27, which means many people were younger than the average.\n",
    "\n",
    "The most common ages were 21 and 24, so there were lots of people in their early 20s.\n",
    "\n",
    "A few older passengers made the average age a bit higher than the middle value.\n"
   ]
  },
  {
   "cell_type": "code",
   "execution_count": 5,
   "id": "2a1b4332",
   "metadata": {
    "execution": {
     "iopub.execute_input": "2025-07-25T16:18:17.394422Z",
     "iopub.status.busy": "2025-07-25T16:18:17.393721Z",
     "iopub.status.idle": "2025-07-25T16:18:17.400687Z",
     "shell.execute_reply": "2025-07-25T16:18:17.399776Z"
    },
    "papermill": {
     "duration": 0.01309,
     "end_time": "2025-07-25T16:18:17.402168",
     "exception": false,
     "start_time": "2025-07-25T16:18:17.389078",
     "status": "completed"
    },
    "tags": []
   },
   "outputs": [
    {
     "name": "stdout",
     "output_type": "stream",
     "text": [
      "Mean Fare: 35.627188489208635\n",
      "Median Fare: 14.4542\n",
      "Mode Fare: 7.75\n"
     ]
    }
   ],
   "source": [
    "\n",
    "import numpy as np\n",
    "print(\"Mean Fare:\", df['Fare'].mean())\n",
    "print(\"Median Fare:\", df['Fare'].median())\n",
    "print(\"Mode Fare:\", df['Fare'].mode()[0])\n"
   ]
  },
  {
   "cell_type": "markdown",
   "id": "06f86ade",
   "metadata": {
    "papermill": {
     "duration": 0.00366,
     "end_time": "2025-07-25T16:18:17.410090",
     "exception": false,
     "start_time": "2025-07-25T16:18:17.406430",
     "status": "completed"
    },
    "tags": []
   },
   "source": [
    "***Insight for Fare***:\n",
    "Most passengers paid low ticket prices —\n",
    "\n",
    "The average fare is $35.63, but the median is much lower at $14.45.\n",
    "\n",
    "This means a few passengers paid very high prices (like 200+), which pulled the average up.\n",
    "\n",
    "The most common fare was $7.75 — showing many people likely traveled in 3rd class or economy.\n",
    "\n",
    "So, most people traveled cheap, but a few rich ones made the average look high\n"
   ]
  },
  {
   "cell_type": "code",
   "execution_count": 6,
   "id": "73b99099",
   "metadata": {
    "execution": {
     "iopub.execute_input": "2025-07-25T16:18:17.419032Z",
     "iopub.status.busy": "2025-07-25T16:18:17.418727Z",
     "iopub.status.idle": "2025-07-25T16:18:17.426087Z",
     "shell.execute_reply": "2025-07-25T16:18:17.424854Z"
    },
    "papermill": {
     "duration": 0.013788,
     "end_time": "2025-07-25T16:18:17.427756",
     "exception": false,
     "start_time": "2025-07-25T16:18:17.413968",
     "status": "completed"
    },
    "tags": []
   },
   "outputs": [
    {
     "name": "stdout",
     "output_type": "stream",
     "text": [
      "Range of age= 75.83\n",
      "Variance of age= 201.10669538455937\n",
      "Standard Deviation of age= 14.18120923562442\n"
     ]
    }
   ],
   "source": [
    "print(\"Range of age=\",df['Age'].max()-df['Age'].min())\n",
    "print(\"Variance of age=\",df['Age'].var())\n",
    "print(\"Standard Deviation of age=\",df['Age'].std())"
   ]
  },
  {
   "cell_type": "markdown",
   "id": "b7720476",
   "metadata": {
    "papermill": {
     "duration": 0.00384,
     "end_time": "2025-07-25T16:18:17.436801",
     "exception": false,
     "start_time": "2025-07-25T16:18:17.432961",
     "status": "completed"
    },
    "tags": []
   },
   "source": [
    "**Insight**:  \n",
    "- Standard deviation ≈ 14 → most ages were between 16 and 44  \n",
    "- Variance = 201 → large spread (from infants to elderly)\n"
   ]
  },
  {
   "cell_type": "code",
   "execution_count": 7,
   "id": "8ab87680",
   "metadata": {
    "execution": {
     "iopub.execute_input": "2025-07-25T16:18:17.446044Z",
     "iopub.status.busy": "2025-07-25T16:18:17.445734Z",
     "iopub.status.idle": "2025-07-25T16:18:17.452697Z",
     "shell.execute_reply": "2025-07-25T16:18:17.451460Z"
    },
    "papermill": {
     "duration": 0.013423,
     "end_time": "2025-07-25T16:18:17.454217",
     "exception": false,
     "start_time": "2025-07-25T16:18:17.440794",
     "status": "completed"
    },
    "tags": []
   },
   "outputs": [
    {
     "name": "stdout",
     "output_type": "stream",
     "text": [
      "max of fare= 512.3292\n",
      "min of fare= 0.0\n",
      "Range of fare= 512.3292\n",
      "Variance of fare= 3125.6570743195775\n",
      "Standard Deviation of fare= 55.90757617997383\n"
     ]
    }
   ],
   "source": [
    "print(\"max of fare=\",df['Fare'].max())\n",
    "print(\"min of fare=\",df['Fare'].min())\n",
    "print(\"Range of fare=\",df['Fare'].max()-df['Fare'].min())\n",
    "print(\"Variance of fare=\",df['Fare'].var())\n",
    "print(\"Standard Deviation of fare=\",df['Fare'].std())"
   ]
  },
  {
   "cell_type": "markdown",
   "id": "4e401f37",
   "metadata": {
    "papermill": {
     "duration": 0.003645,
     "end_time": "2025-07-25T16:18:17.462188",
     "exception": false,
     "start_time": "2025-07-25T16:18:17.458543",
     "status": "completed"
    },
    "tags": []
   },
   "source": [
    "**Insight**:  \n",
    "- Fares ranged from ₹0 to ₹512 — huge gap  \n",
    "- Most people paid under ₹90  \n",
    "- Few paid luxury prices, which increased overall variance\n"
   ]
  },
  {
   "cell_type": "code",
   "execution_count": 8,
   "id": "4e147da2",
   "metadata": {
    "execution": {
     "iopub.execute_input": "2025-07-25T16:18:17.471885Z",
     "iopub.status.busy": "2025-07-25T16:18:17.471490Z",
     "iopub.status.idle": "2025-07-25T16:18:19.737631Z",
     "shell.execute_reply": "2025-07-25T16:18:19.736668Z"
    },
    "papermill": {
     "duration": 2.27274,
     "end_time": "2025-07-25T16:18:19.739207",
     "exception": false,
     "start_time": "2025-07-25T16:18:17.466467",
     "status": "completed"
    },
    "tags": []
   },
   "outputs": [
    {
     "data": {
      "image/png": "[encoded data removed]",
      "text/plain": [
       "<Figure size 640x480 with 1 Axes>"
      ]
     },
     "metadata": {},
     "output_type": "display_data"
    }
   ],
   "source": [
    "import seaborn as sns\n",
    "import matplotlib.pyplot as plt\n",
    "\n",
    "sns.countplot(x='Sex', data=df)\n",
    "plt.show()"
   ]
  },
  {
   "cell_type": "code",
   "execution_count": 9,
   "id": "15167478",
   "metadata": {
    "execution": {
     "iopub.execute_input": "2025-07-25T16:18:19.749429Z",
     "iopub.status.busy": "2025-07-25T16:18:19.748957Z",
     "iopub.status.idle": "2025-07-25T16:18:20.035431Z",
     "shell.execute_reply": "2025-07-25T16:18:20.034478Z"
    },
    "papermill": {
     "duration": 0.293281,
     "end_time": "2025-07-25T16:18:20.037068",
     "exception": false,
     "start_time": "2025-07-25T16:18:19.743787",
     "status": "completed"
    },
    "tags": []
   },
   "outputs": [
    {
     "name": "stderr",
     "output_type": "stream",
     "text": [
      "/usr/local/lib/python3.11/dist-packages/seaborn/_oldcore.py:1119: FutureWarning: use_inf_as_na option is deprecated and will be removed in a future version. Convert inf values to NaN before operating instead.\n",
      "  with pd.option_context('mode.use_inf_as_na', True):\n"
     ]
    },
    {
     "data": {
      "image/png": "[encoded data removed]",
      "text/plain": [
       "<Figure size 640x480 with 1 Axes>"
      ]
     },
     "metadata": {},
     "output_type": "display_data"
    }
   ],
   "source": [
    "sns.histplot(df['Age'], kde=True)\n",
    "plt.title(\"Age distribution of passenger\")\n",
    "plt.xlabel(\"Age\")\n",
    "plt.ylabel(\"Frequency\") # frequency means count no. of people \n",
    "plt.show()"
   ]
  },
  {
   "cell_type": "code",
   "execution_count": 10,
   "id": "00038d2d",
   "metadata": {
    "execution": {
     "iopub.execute_input": "2025-07-25T16:18:20.048895Z",
     "iopub.status.busy": "2025-07-25T16:18:20.048565Z",
     "iopub.status.idle": "2025-07-25T16:18:20.373317Z",
     "shell.execute_reply": "2025-07-25T16:18:20.372398Z"
    },
    "papermill": {
     "duration": 0.332335,
     "end_time": "2025-07-25T16:18:20.374948",
     "exception": false,
     "start_time": "2025-07-25T16:18:20.042613",
     "status": "completed"
    },
    "tags": []
   },
   "outputs": [
    {
     "name": "stderr",
     "output_type": "stream",
     "text": [
      "/usr/local/lib/python3.11/dist-packages/seaborn/_oldcore.py:1119: FutureWarning: use_inf_as_na option is deprecated and will be removed in a future version. Convert inf values to NaN before operating instead.\n",
      "  with pd.option_context('mode.use_inf_as_na', True):\n"
     ]
    },
    {
     "data": {
      "image/png": "[encoded data removed]",
      "text/plain": [
       "<Figure size 640x480 with 1 Axes>"
      ]
     },
     "metadata": {},
     "output_type": "display_data"
    }
   ],
   "source": [
    "sns.histplot(df['Fare'], kde=True)\n",
    "plt.title(\"cost of passenger\")\n",
    "plt.xlabel(\"Fare\")\n",
    "plt.ylabel(\"Frequency\") # frequency means count no of people in that div age\n",
    "plt.show()"
   ]
  },
  {
   "cell_type": "code",
   "execution_count": 11,
   "id": "3f22f585",
   "metadata": {
    "execution": {
     "iopub.execute_input": "2025-07-25T16:18:20.387677Z",
     "iopub.status.busy": "2025-07-25T16:18:20.387333Z",
     "iopub.status.idle": "2025-07-25T16:18:20.553753Z",
     "shell.execute_reply": "2025-07-25T16:18:20.552843Z"
    },
    "papermill": {
     "duration": 0.174362,
     "end_time": "2025-07-25T16:18:20.555212",
     "exception": false,
     "start_time": "2025-07-25T16:18:20.380850",
     "status": "completed"
    },
    "tags": []
   },
   "outputs": [
    {
     "data": {
      "image/png": "[encoded data removed]",
      "text/plain": [
       "<Figure size 640x480 with 1 Axes>"
      ]
     },
     "metadata": {},
     "output_type": "display_data"
    }
   ],
   "source": [
    "sns.boxplot(x='Pclass', y='Age', data=df)\n",
    "plt.title(\"Age Distribution by Passenger Class\")\n",
    "plt.xlabel(\"Passenger Class\")\n",
    "plt.ylabel(\"Age\")\n",
    "plt.show()\n"
   ]
  },
  {
   "cell_type": "code",
   "execution_count": 12,
   "id": "79636fd1",
   "metadata": {
    "execution": {
     "iopub.execute_input": "2025-07-25T16:18:20.569414Z",
     "iopub.status.busy": "2025-07-25T16:18:20.568605Z",
     "iopub.status.idle": "2025-07-25T16:18:20.676768Z",
     "shell.execute_reply": "2025-07-25T16:18:20.675630Z"
    },
    "papermill": {
     "duration": 0.116957,
     "end_time": "2025-07-25T16:18:20.678425",
     "exception": false,
     "start_time": "2025-07-25T16:18:20.561468",
     "status": "completed"
    },
    "tags": []
   },
   "outputs": [
    {
     "data": {
      "image/png": "[encoded data removed]",
      "text/plain": [
       "<Figure size 640x480 with 1 Axes>"
      ]
     },
     "metadata": {},
     "output_type": "display_data"
    }
   ],
   "source": [
    "gender_counts = df['Sex'].value_counts()\n",
    "labels = gender_counts.index\n",
    "sizes = gender_counts.values\n",
    "\n",
    "plt.pie(sizes, labels=labels, autopct='%1.1f%%', startangle=90)\n",
    "plt.title(\"Gender Distribution\")\n",
    "plt.axis('equal')\n",
    "plt.show()\n"
   ]
  },
  {
   "cell_type": "markdown",
   "id": "7c0ad342",
   "metadata": {
    "papermill": {
     "duration": 0.006736,
     "end_time": "2025-07-25T16:18:20.692133",
     "exception": false,
     "start_time": "2025-07-25T16:18:20.685397",
     "status": "completed"
    },
    "tags": []
   },
   "source": [
    "## ✅ Conclusion\n",
    "\n",
    "- Most Titanic passengers were young adults (ages 16–44)\n",
    "- Fares varied greatly – from economy to luxury\n",
    "- Passenger distribution was mixed in terms of age, fare, and gender\n",
    "- Visualizations help understand these differences clearly\n",
    "\n",
    "👉 A simple descriptive analysis can reveal powerful patterns in any dataset.\n"
   ]
  }
 ],
 "metadata": {
  "kaggle": {
   "accelerator": "none",
   "dataSources": [
    {
     "datasetId": 826163,
     "sourceId": 2879186,
     "sourceType": "datasetVersion"
    }
   ],
   "dockerImageVersionId": 31089,
   "isGpuEnabled": false,
   "isInternetEnabled": false,
   "language": "python",
   "sourceType": "notebook"
  },
  "kernelspec": {
   "display_name": "Python 3",
   "language": "python",
   "name": "python3"
  },
  "language_info": {
   "codemirror_mode": {
    "name": "ipython",
    "version": 3
   },
   "file_extension": ".py",
   "mimetype": "text/x-python",
   "name": "python",
   "nbconvert_exporter": "python",
   "pygments_lexer": "ipython3",
   "version": "3.11.13"
  },
  "papermill": {
   "default_parameters": {},
   "duration": 11.235098,
   "end_time": "2025-07-25T16:18:21.419565",
   "environment_variables": {},
   "exception": null,
   "input_path": "__notebook__.ipynb",
   "output_path": "__notebook__.ipynb",
   "parameters": {},
   "start_time": "2025-07-25T16:18:10.184467",
   "version": "2.6.0"
  }
 },
 "nbformat": 4,
 "nbformat_minor": 5
}
