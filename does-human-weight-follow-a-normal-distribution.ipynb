{
 "cells": [
  {
   "cell_type": "code",
   "execution_count": 1,
   "id": "018d1668",
   "metadata": {
    "_cell_guid": "b1076dfc-b9ad-4769-8c92-a6c4dae69d19",
    "_uuid": "8f2839f25d086af736a60e9eeb907d3b93b6e0e5",
    "execution": {
     "iopub.execute_input": "2025-07-31T10:26:45.149083Z",
     "iopub.status.busy": "2025-07-31T10:26:45.148721Z",
     "iopub.status.idle": "2025-07-31T10:26:46.983993Z",
     "shell.execute_reply": "2025-07-31T10:26:46.983013Z"
    },
    "papermill": {
     "duration": 1.841028,
     "end_time": "2025-07-31T10:26:46.985439",
     "exception": false,
     "start_time": "2025-07-31T10:26:45.144411",
     "status": "completed"
    },
    "tags": []
   },
   "outputs": [
    {
     "name": "stdout",
     "output_type": "stream",
     "text": [
      "/kaggle/input/500-person-gender-height-weight-bodymassindex/500_Person_Gender_Height_Weight_Index.csv\n"
     ]
    }
   ],
   "source": [
    "# This Python 3 environment comes with many helpful analytics libraries installed\n",
    "# It is defined by the kaggle/python Docker image: https://github.com/kaggle/docker-python\n",
    "# For example, here's several helpful packages to load\n",
    "\n",
    "import numpy as np # linear algebra\n",
    "import pandas as pd # data processing, CSV file I/O (e.g. pd.read_csv)\n",
    "\n",
    "# Input data files are available in the read-only \"../input/\" directory\n",
    "# For example, running this (by clicking run or pressing Shift+Enter) will list all files under the input directory\n",
    "\n",
    "import os\n",
    "for dirname, _, filenames in os.walk('/kaggle/input'):\n",
    "    for filename in filenames:\n",
    "        print(os.path.join(dirname, filename))\n",
    "\n",
    "# You can write up to 20GB to the current directory (/kaggle/working/) that gets preserved as output when you create a version using \"Save & Run All\" \n",
    "# You can also write temporary files to /kaggle/temp/, but they won't be saved outside of the current session"
   ]
  },
  {
   "cell_type": "markdown",
   "id": "305f716c",
   "metadata": {
    "papermill": {
     "duration": 0.002351,
     "end_time": "2025-07-31T10:26:46.990935",
     "exception": false,
     "start_time": "2025-07-31T10:26:46.988584",
     "status": "completed"
    },
    "tags": []
   },
   "source": [
    "## 📊 Weight Distribution vs Normal Distribution\n",
    "\n",
    "This plot visualizes the distribution of weight data from the dataset and compares it to a theoretical normal distribution curve.\n",
    "\n",
    "- The **sky blue bars** represent the actual weight data (histogram).\n",
    "- The **blue curve** is the Probability Density Function (PDF) of a normal distribution using:\n",
    "  - Mean = `df['Weight'].mean()`\n",
    "  - Standard Deviation = `df['Weight'].std()`\n",
    "\n",
    "This helps us check if the weight values follow a normal distribution or if the data is skewed or contains outliers.\n"
   ]
  },
  {
   "cell_type": "code",
   "execution_count": 2,
   "id": "e90c23e1",
   "metadata": {
    "execution": {
     "iopub.execute_input": "2025-07-31T10:26:46.997234Z",
     "iopub.status.busy": "2025-07-31T10:26:46.996821Z",
     "iopub.status.idle": "2025-07-31T10:26:48.166398Z",
     "shell.execute_reply": "2025-07-31T10:26:48.165190Z"
    },
    "papermill": {
     "duration": 1.175074,
     "end_time": "2025-07-31T10:26:48.168509",
     "exception": false,
     "start_time": "2025-07-31T10:26:46.993435",
     "status": "completed"
    },
    "tags": []
   },
   "outputs": [
    {
     "data": {
      "text/html": [
       "<div>\n",
       "<style scoped>\n",
       "    .dataframe tbody tr th:only-of-type {\n",
       "        vertical-align: middle;\n",
       "    }\n",
       "\n",
       "    .dataframe tbody tr th {\n",
       "        vertical-align: top;\n",
       "    }\n",
       "\n",
       "    .dataframe thead th {\n",
       "        text-align: right;\n",
       "    }\n",
       "</style>\n",
       "<table border=\"1\" class=\"dataframe\">\n",
       "  <thead>\n",
       "    <tr style=\"text-align: right;\">\n",
       "      <th></th>\n",
       "      <th>Gender</th>\n",
       "      <th>Height</th>\n",
       "      <th>Weight</th>\n",
       "      <th>Index</th>\n",
       "    </tr>\n",
       "  </thead>\n",
       "  <tbody>\n",
       "    <tr>\n",
       "      <th>0</th>\n",
       "      <td>Male</td>\n",
       "      <td>174</td>\n",
       "      <td>96</td>\n",
       "      <td>4</td>\n",
       "    </tr>\n",
       "    <tr>\n",
       "      <th>1</th>\n",
       "      <td>Male</td>\n",
       "      <td>189</td>\n",
       "      <td>87</td>\n",
       "      <td>2</td>\n",
       "    </tr>\n",
       "    <tr>\n",
       "      <th>2</th>\n",
       "      <td>Female</td>\n",
       "      <td>185</td>\n",
       "      <td>110</td>\n",
       "      <td>4</td>\n",
       "    </tr>\n",
       "    <tr>\n",
       "      <th>3</th>\n",
       "      <td>Female</td>\n",
       "      <td>195</td>\n",
       "      <td>104</td>\n",
       "      <td>3</td>\n",
       "    </tr>\n",
       "    <tr>\n",
       "      <th>4</th>\n",
       "      <td>Male</td>\n",
       "      <td>149</td>\n",
       "      <td>61</td>\n",
       "      <td>3</td>\n",
       "    </tr>\n",
       "  </tbody>\n",
       "</table>\n",
       "</div>"
      ],
      "text/plain": [
       "   Gender  Height  Weight  Index\n",
       "0    Male     174      96      4\n",
       "1    Male     189      87      2\n",
       "2  Female     185     110      4\n",
       "3  Female     195     104      3\n",
       "4    Male     149      61      3"
      ]
     },
     "execution_count": 2,
     "metadata": {},
     "output_type": "execute_result"
    }
   ],
   "source": [
    "import pandas as pd\n",
    "import numpy as np\n",
    "import matplotlib.pyplot as plt\n",
    "from scipy.stats import norm\n",
    "\n",
    "df=pd.read_csv(\"/kaggle/input/500-person-gender-height-weight-bodymassindex/500_Person_Gender_Height_Weight_Index.csv\")\n",
    "df.head()"
   ]
  },
  {
   "cell_type": "markdown",
   "id": "145e210e",
   "metadata": {
    "papermill": {
     "duration": 0.002566,
     "end_time": "2025-07-31T10:26:48.174066",
     "exception": false,
     "start_time": "2025-07-31T10:26:48.171500",
     "status": "completed"
    },
    "tags": []
   },
   "source": [
    "**Step 1** : Calculate mean and Standard Deviation of weight"
   ]
  },
  {
   "cell_type": "code",
   "execution_count": 3,
   "id": "b7d53134",
   "metadata": {
    "execution": {
     "iopub.execute_input": "2025-07-31T10:26:48.180864Z",
     "iopub.status.busy": "2025-07-31T10:26:48.180181Z",
     "iopub.status.idle": "2025-07-31T10:26:48.186286Z",
     "shell.execute_reply": "2025-07-31T10:26:48.185474Z"
    },
    "papermill": {
     "duration": 0.010976,
     "end_time": "2025-07-31T10:26:48.187657",
     "exception": false,
     "start_time": "2025-07-31T10:26:48.176681",
     "status": "completed"
    },
    "tags": []
   },
   "outputs": [],
   "source": [
    "mean= df['Weight'].mean()\n",
    "std= df['Weight'].std()"
   ]
  },
  {
   "cell_type": "markdown",
   "id": "b88a4685",
   "metadata": {
    "papermill": {
     "duration": 0.002356,
     "end_time": "2025-07-31T10:26:48.192762",
     "exception": false,
     "start_time": "2025-07-31T10:26:48.190406",
     "status": "completed"
    },
    "tags": []
   },
   "source": [
    "**Step 2**: Create an array of values across the weight range"
   ]
  },
  {
   "cell_type": "code",
   "execution_count": 4,
   "id": "886dfb68",
   "metadata": {
    "execution": {
     "iopub.execute_input": "2025-07-31T10:26:48.198967Z",
     "iopub.status.busy": "2025-07-31T10:26:48.198629Z",
     "iopub.status.idle": "2025-07-31T10:26:48.203434Z",
     "shell.execute_reply": "2025-07-31T10:26:48.202592Z"
    },
    "papermill": {
     "duration": 0.009901,
     "end_time": "2025-07-31T10:26:48.205106",
     "exception": false,
     "start_time": "2025-07-31T10:26:48.195205",
     "status": "completed"
    },
    "tags": []
   },
   "outputs": [],
   "source": [
    "x=np.linspace(df['Weight'].min(),df['Weight'].max(),150)"
   ]
  },
  {
   "cell_type": "markdown",
   "id": "7545dffe",
   "metadata": {
    "papermill": {
     "duration": 0.002405,
     "end_time": "2025-07-31T10:26:48.210227",
     "exception": false,
     "start_time": "2025-07-31T10:26:48.207822",
     "status": "completed"
    },
    "tags": []
   },
   "source": [
    "**Step 3** : Generate normal distribution curve (PDF)"
   ]
  },
  {
   "cell_type": "code",
   "execution_count": 5,
   "id": "8adb51b7",
   "metadata": {
    "execution": {
     "iopub.execute_input": "2025-07-31T10:26:48.216930Z",
     "iopub.status.busy": "2025-07-31T10:26:48.216571Z",
     "iopub.status.idle": "2025-07-31T10:26:48.222529Z",
     "shell.execute_reply": "2025-07-31T10:26:48.221547Z"
    },
    "papermill": {
     "duration": 0.01149,
     "end_time": "2025-07-31T10:26:48.224361",
     "exception": false,
     "start_time": "2025-07-31T10:26:48.212871",
     "status": "completed"
    },
    "tags": []
   },
   "outputs": [],
   "source": [
    "pdf=norm.pdf(x,mean,std)"
   ]
  },
  {
   "cell_type": "markdown",
   "id": "5582212b",
   "metadata": {
    "papermill": {
     "duration": 0.002954,
     "end_time": "2025-07-31T10:26:48.231416",
     "exception": false,
     "start_time": "2025-07-31T10:26:48.228462",
     "status": "completed"
    },
    "tags": []
   },
   "source": [
    "**Step 4** : Plot histogram of real data and normal curve"
   ]
  },
  {
   "cell_type": "code",
   "execution_count": 6,
   "id": "56d2a883",
   "metadata": {
    "execution": {
     "iopub.execute_input": "2025-07-31T10:26:48.237978Z",
     "iopub.status.busy": "2025-07-31T10:26:48.237526Z",
     "iopub.status.idle": "2025-07-31T10:26:48.613887Z",
     "shell.execute_reply": "2025-07-31T10:26:48.613062Z"
    },
    "papermill": {
     "duration": 0.382173,
     "end_time": "2025-07-31T10:26:48.616071",
     "exception": false,
     "start_time": "2025-07-31T10:26:48.233898",
     "status": "completed"
    },
    "tags": []
   },
   "outputs": [
    {
     "data": {
      "image/png": "[encoded data removed]",
      "text/plain": [
       "<Figure size 1000x700 with 1 Axes>"
      ]
     },
     "metadata": {},
     "output_type": "display_data"
    }
   ],
   "source": [
    "plt.figure(figsize=(10, 7))\n",
    "plt.hist(df['Weight'], bins=20, density=True, alpha=0.6, color='skyblue', label='Real Weight Data')\n",
    "plt.plot(x, pdf, label='Normal Distribution (PDF)', linewidth=2)\n",
    "plt.title(\"Weight Distribution with Normal Curve\")\n",
    "plt.xlabel(\"Weight\")\n",
    "plt.ylabel(\"Density\")\n",
    "plt.legend()\n",
    "plt.grid(True)\n",
    "plt.show()"
   ]
  }
 ],
 "metadata": {
  "kaggle": {
   "accelerator": "none",
   "dataSources": [
    {
     "datasetId": 34879,
     "sourceId": 46976,
     "sourceType": "datasetVersion"
    }
   ],
   "dockerImageVersionId": 31089,
   "isGpuEnabled": false,
   "isInternetEnabled": true,
   "language": "python",
   "sourceType": "notebook"
  },
  "kernelspec": {
   "display_name": "Python 3",
   "language": "python",
   "name": "python3"
  },
  "language_info": {
   "codemirror_mode": {
    "name": "ipython",
    "version": 3
   },
   "file_extension": ".py",
   "mimetype": "text/x-python",
   "name": "python",
   "nbconvert_exporter": "python",
   "pygments_lexer": "ipython3",
   "version": "3.11.13"
  },
  "papermill": {
   "default_parameters": {},
   "duration": 8.85688,
   "end_time": "2025-07-31T10:26:49.240191",
   "environment_variables": {},
   "exception": null,
   "input_path": "__notebook__.ipynb",
   "output_path": "__notebook__.ipynb",
   "parameters": {},
   "start_time": "2025-07-31T10:26:40.383311",
   "version": "2.6.0"
  }
 },
 "nbformat": 4,
 "nbformat_minor": 5
}
