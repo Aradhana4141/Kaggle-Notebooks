{
 "cells": [
  {
   "cell_type": "code",
   "execution_count": 1,
   "id": "9f4e904a",
   "metadata": {
    "_cell_guid": "b1076dfc-b9ad-4769-8c92-a6c4dae69d19",
    "_uuid": "8f2839f25d086af736a60e9eeb907d3b93b6e0e5",
    "execution": {
     "iopub.execute_input": "2025-08-01T18:46:32.754560Z",
     "iopub.status.busy": "2025-08-01T18:46:32.754249Z",
     "iopub.status.idle": "2025-08-01T18:46:34.631158Z",
     "shell.execute_reply": "2025-08-01T18:46:34.630107Z"
    },
    "papermill": {
     "duration": 1.883014,
     "end_time": "2025-08-01T18:46:34.632571",
     "exception": false,
     "start_time": "2025-08-01T18:46:32.749557",
     "status": "completed"
    },
    "tags": []
   },
   "outputs": [
    {
     "name": "stdout",
     "output_type": "stream",
     "text": [
      "/kaggle/input/noshowappointments/KaggleV2-May-2016.csv\n"
     ]
    }
   ],
   "source": [
    "# This Python 3 environment comes with many helpful analytics libraries installed\n",
    "# It is defined by the kaggle/python Docker image: https://github.com/kaggle/docker-python\n",
    "# For example, here's several helpful packages to load\n",
    "\n",
    "import numpy as np # linear algebra\n",
    "import pandas as pd # data processing, CSV file I/O (e.g. pd.read_csv)\n",
    "\n",
    "# Input data files are available in the read-only \"../input/\" directory\n",
    "# For example, running this (by clicking run or pressing Shift+Enter) will list all files under the input directory\n",
    "\n",
    "import os\n",
    "for dirname, _, filenames in os.walk('/kaggle/input'):\n",
    "    for filename in filenames:\n",
    "        print(os.path.join(dirname, filename))\n",
    "\n",
    "# You can write up to 20GB to the current directory (/kaggle/working/) that gets preserved as output when you create a version using \"Save & Run All\" \n",
    "# You can also write temporary files to /kaggle/temp/, but they won't be saved outside of the current session"
   ]
  },
  {
   "cell_type": "markdown",
   "id": "471fadc8",
   "metadata": {
    "papermill": {
     "duration": 0.00266,
     "end_time": "2025-08-01T18:46:34.638719",
     "exception": false,
     "start_time": "2025-08-01T18:46:34.636059",
     "status": "completed"
    },
    "tags": []
   },
   "source": [
    "#### 📘TITLE:\n",
    "Modeling Patient No-Shows Using Binomial Distribution\n",
    "\n",
    "\n",
    "\n",
    "### 🎯 Objective\n",
    "In this notebook, we use the binomial distribution to analyze and model the probability of patients not showing up for their medical appointments.\n",
    "\n",
    "This is a classic binary problem (Show / No-show), which makes it ideal for applying binomial probability modeling.\n",
    "\n",
    "Key Goals:\n",
    "- Estimate the probability of a patient missing an appointment.\n",
    "- Use binomial distribution to calculate expected no-shows.\n",
    "- Compare real-world data vs. theoretical expectations."
   ]
  },
  {
   "cell_type": "code",
   "execution_count": 2,
   "id": "dd8f6599",
   "metadata": {
    "execution": {
     "iopub.execute_input": "2025-08-01T18:46:34.645653Z",
     "iopub.status.busy": "2025-08-01T18:46:34.645241Z",
     "iopub.status.idle": "2025-08-01T18:46:36.381002Z",
     "shell.execute_reply": "2025-08-01T18:46:36.380111Z"
    },
    "papermill": {
     "duration": 1.741058,
     "end_time": "2025-08-01T18:46:36.382562",
     "exception": false,
     "start_time": "2025-08-01T18:46:34.641504",
     "status": "completed"
    },
    "tags": []
   },
   "outputs": [
    {
     "data": {
      "text/html": [
       "<div>\n",
       "<style scoped>\n",
       "    .dataframe tbody tr th:only-of-type {\n",
       "        vertical-align: middle;\n",
       "    }\n",
       "\n",
       "    .dataframe tbody tr th {\n",
       "        vertical-align: top;\n",
       "    }\n",
       "\n",
       "    .dataframe thead th {\n",
       "        text-align: right;\n",
       "    }\n",
       "</style>\n",
       "<table border=\"1\" class=\"dataframe\">\n",
       "  <thead>\n",
       "    <tr style=\"text-align: right;\">\n",
       "      <th></th>\n",
       "      <th>PatientId</th>\n",
       "      <th>AppointmentID</th>\n",
       "      <th>Gender</th>\n",
       "      <th>ScheduledDay</th>\n",
       "      <th>AppointmentDay</th>\n",
       "      <th>Age</th>\n",
       "      <th>Neighbourhood</th>\n",
       "      <th>Scholarship</th>\n",
       "      <th>Hipertension</th>\n",
       "      <th>Diabetes</th>\n",
       "      <th>Alcoholism</th>\n",
       "      <th>Handcap</th>\n",
       "      <th>SMS_received</th>\n",
       "      <th>No-show</th>\n",
       "    </tr>\n",
       "  </thead>\n",
       "  <tbody>\n",
       "    <tr>\n",
       "      <th>0</th>\n",
       "      <td>2.987250e+13</td>\n",
       "      <td>5642903</td>\n",
       "      <td>F</td>\n",
       "      <td>2016-04-29T18:38:08Z</td>\n",
       "      <td>2016-04-29T00:00:00Z</td>\n",
       "      <td>62</td>\n",
       "      <td>JARDIM DA PENHA</td>\n",
       "      <td>0</td>\n",
       "      <td>1</td>\n",
       "      <td>0</td>\n",
       "      <td>0</td>\n",
       "      <td>0</td>\n",
       "      <td>0</td>\n",
       "      <td>No</td>\n",
       "    </tr>\n",
       "    <tr>\n",
       "      <th>1</th>\n",
       "      <td>5.589978e+14</td>\n",
       "      <td>5642503</td>\n",
       "      <td>M</td>\n",
       "      <td>2016-04-29T16:08:27Z</td>\n",
       "      <td>2016-04-29T00:00:00Z</td>\n",
       "      <td>56</td>\n",
       "      <td>JARDIM DA PENHA</td>\n",
       "      <td>0</td>\n",
       "      <td>0</td>\n",
       "      <td>0</td>\n",
       "      <td>0</td>\n",
       "      <td>0</td>\n",
       "      <td>0</td>\n",
       "      <td>No</td>\n",
       "    </tr>\n",
       "    <tr>\n",
       "      <th>2</th>\n",
       "      <td>4.262962e+12</td>\n",
       "      <td>5642549</td>\n",
       "      <td>F</td>\n",
       "      <td>2016-04-29T16:19:04Z</td>\n",
       "      <td>2016-04-29T00:00:00Z</td>\n",
       "      <td>62</td>\n",
       "      <td>MATA DA PRAIA</td>\n",
       "      <td>0</td>\n",
       "      <td>0</td>\n",
       "      <td>0</td>\n",
       "      <td>0</td>\n",
       "      <td>0</td>\n",
       "      <td>0</td>\n",
       "      <td>No</td>\n",
       "    </tr>\n",
       "    <tr>\n",
       "      <th>3</th>\n",
       "      <td>8.679512e+11</td>\n",
       "      <td>5642828</td>\n",
       "      <td>F</td>\n",
       "      <td>2016-04-29T17:29:31Z</td>\n",
       "      <td>2016-04-29T00:00:00Z</td>\n",
       "      <td>8</td>\n",
       "      <td>PONTAL DE CAMBURI</td>\n",
       "      <td>0</td>\n",
       "      <td>0</td>\n",
       "      <td>0</td>\n",
       "      <td>0</td>\n",
       "      <td>0</td>\n",
       "      <td>0</td>\n",
       "      <td>No</td>\n",
       "    </tr>\n",
       "    <tr>\n",
       "      <th>4</th>\n",
       "      <td>8.841186e+12</td>\n",
       "      <td>5642494</td>\n",
       "      <td>F</td>\n",
       "      <td>2016-04-29T16:07:23Z</td>\n",
       "      <td>2016-04-29T00:00:00Z</td>\n",
       "      <td>56</td>\n",
       "      <td>JARDIM DA PENHA</td>\n",
       "      <td>0</td>\n",
       "      <td>1</td>\n",
       "      <td>1</td>\n",
       "      <td>0</td>\n",
       "      <td>0</td>\n",
       "      <td>0</td>\n",
       "      <td>No</td>\n",
       "    </tr>\n",
       "  </tbody>\n",
       "</table>\n",
       "</div>"
      ],
      "text/plain": [
       "      PatientId  AppointmentID Gender          ScheduledDay  \\\n",
       "0  2.987250e+13        5642903      F  2016-04-29T18:38:08Z   \n",
       "1  5.589978e+14        5642503      M  2016-04-29T16:08:27Z   \n",
       "2  4.262962e+12        5642549      F  2016-04-29T16:19:04Z   \n",
       "3  8.679512e+11        5642828      F  2016-04-29T17:29:31Z   \n",
       "4  8.841186e+12        5642494      F  2016-04-29T16:07:23Z   \n",
       "\n",
       "         AppointmentDay  Age      Neighbourhood  Scholarship  Hipertension  \\\n",
       "0  2016-04-29T00:00:00Z   62    JARDIM DA PENHA            0             1   \n",
       "1  2016-04-29T00:00:00Z   56    JARDIM DA PENHA            0             0   \n",
       "2  2016-04-29T00:00:00Z   62      MATA DA PRAIA            0             0   \n",
       "3  2016-04-29T00:00:00Z    8  PONTAL DE CAMBURI            0             0   \n",
       "4  2016-04-29T00:00:00Z   56    JARDIM DA PENHA            0             1   \n",
       "\n",
       "   Diabetes  Alcoholism  Handcap  SMS_received No-show  \n",
       "0         0           0        0             0      No  \n",
       "1         0           0        0             0      No  \n",
       "2         0           0        0             0      No  \n",
       "3         0           0        0             0      No  \n",
       "4         1           0        0             0      No  "
      ]
     },
     "execution_count": 2,
     "metadata": {},
     "output_type": "execute_result"
    }
   ],
   "source": [
    "import pandas as pd\n",
    "import numpy as np\n",
    "import matplotlib.pyplot as plt\n",
    "from scipy.stats import binom\n",
    "df=pd.read_csv(\"/kaggle/input/noshowappointments/KaggleV2-May-2016.csv\")\n",
    "df.head()"
   ]
  },
  {
   "cell_type": "markdown",
   "id": "5dae39b9",
   "metadata": {
    "papermill": {
     "duration": 0.002902,
     "end_time": "2025-08-01T18:46:36.388894",
     "exception": false,
     "start_time": "2025-08-01T18:46:36.385992",
     "status": "completed"
    },
    "tags": []
   },
   "source": [
    "### 🔍 Dataset Features\n",
    "- **No-show**: Our target variable (Yes = did NOT show up).\n",
    "- We will focus on modeling the `No-show` column as a binary outcome.\n"
   ]
  },
  {
   "cell_type": "code",
   "execution_count": 3,
   "id": "2c605495",
   "metadata": {
    "execution": {
     "iopub.execute_input": "2025-08-01T18:46:36.396111Z",
     "iopub.status.busy": "2025-08-01T18:46:36.395783Z",
     "iopub.status.idle": "2025-08-01T18:46:36.409421Z",
     "shell.execute_reply": "2025-08-01T18:46:36.408443Z"
    },
    "papermill": {
     "duration": 0.019023,
     "end_time": "2025-08-01T18:46:36.410875",
     "exception": false,
     "start_time": "2025-08-01T18:46:36.391852",
     "status": "completed"
    },
    "tags": []
   },
   "outputs": [
    {
     "name": "stdout",
     "output_type": "stream",
     "text": [
      "['No' 'Yes']\n"
     ]
    }
   ],
   "source": [
    "print(df['No-show'].unique())"
   ]
  },
  {
   "cell_type": "code",
   "execution_count": 4,
   "id": "e27e9bc8",
   "metadata": {
    "execution": {
     "iopub.execute_input": "2025-08-01T18:46:36.418905Z",
     "iopub.status.busy": "2025-08-01T18:46:36.418615Z",
     "iopub.status.idle": "2025-08-01T18:46:36.444317Z",
     "shell.execute_reply": "2025-08-01T18:46:36.443440Z"
    },
    "papermill": {
     "duration": 0.031462,
     "end_time": "2025-08-01T18:46:36.445650",
     "exception": false,
     "start_time": "2025-08-01T18:46:36.414188",
     "status": "completed"
    },
    "tags": []
   },
   "outputs": [
    {
     "data": {
      "text/html": [
       "<div>\n",
       "<style scoped>\n",
       "    .dataframe tbody tr th:only-of-type {\n",
       "        vertical-align: middle;\n",
       "    }\n",
       "\n",
       "    .dataframe tbody tr th {\n",
       "        vertical-align: top;\n",
       "    }\n",
       "\n",
       "    .dataframe thead th {\n",
       "        text-align: right;\n",
       "    }\n",
       "</style>\n",
       "<table border=\"1\" class=\"dataframe\">\n",
       "  <thead>\n",
       "    <tr style=\"text-align: right;\">\n",
       "      <th></th>\n",
       "      <th>PatientId</th>\n",
       "      <th>AppointmentID</th>\n",
       "      <th>Gender</th>\n",
       "      <th>ScheduledDay</th>\n",
       "      <th>AppointmentDay</th>\n",
       "      <th>Age</th>\n",
       "      <th>Neighbourhood</th>\n",
       "      <th>Scholarship</th>\n",
       "      <th>Hipertension</th>\n",
       "      <th>Diabetes</th>\n",
       "      <th>Alcoholism</th>\n",
       "      <th>Handcap</th>\n",
       "      <th>SMS_received</th>\n",
       "      <th>No-show</th>\n",
       "    </tr>\n",
       "  </thead>\n",
       "  <tbody>\n",
       "    <tr>\n",
       "      <th>0</th>\n",
       "      <td>2.987250e+13</td>\n",
       "      <td>5642903</td>\n",
       "      <td>F</td>\n",
       "      <td>2016-04-29T18:38:08Z</td>\n",
       "      <td>2016-04-29T00:00:00Z</td>\n",
       "      <td>62</td>\n",
       "      <td>JARDIM DA PENHA</td>\n",
       "      <td>0</td>\n",
       "      <td>1</td>\n",
       "      <td>0</td>\n",
       "      <td>0</td>\n",
       "      <td>0</td>\n",
       "      <td>0</td>\n",
       "      <td>0</td>\n",
       "    </tr>\n",
       "    <tr>\n",
       "      <th>1</th>\n",
       "      <td>5.589978e+14</td>\n",
       "      <td>5642503</td>\n",
       "      <td>M</td>\n",
       "      <td>2016-04-29T16:08:27Z</td>\n",
       "      <td>2016-04-29T00:00:00Z</td>\n",
       "      <td>56</td>\n",
       "      <td>JARDIM DA PENHA</td>\n",
       "      <td>0</td>\n",
       "      <td>0</td>\n",
       "      <td>0</td>\n",
       "      <td>0</td>\n",
       "      <td>0</td>\n",
       "      <td>0</td>\n",
       "      <td>0</td>\n",
       "    </tr>\n",
       "    <tr>\n",
       "      <th>2</th>\n",
       "      <td>4.262962e+12</td>\n",
       "      <td>5642549</td>\n",
       "      <td>F</td>\n",
       "      <td>2016-04-29T16:19:04Z</td>\n",
       "      <td>2016-04-29T00:00:00Z</td>\n",
       "      <td>62</td>\n",
       "      <td>MATA DA PRAIA</td>\n",
       "      <td>0</td>\n",
       "      <td>0</td>\n",
       "      <td>0</td>\n",
       "      <td>0</td>\n",
       "      <td>0</td>\n",
       "      <td>0</td>\n",
       "      <td>0</td>\n",
       "    </tr>\n",
       "    <tr>\n",
       "      <th>3</th>\n",
       "      <td>8.679512e+11</td>\n",
       "      <td>5642828</td>\n",
       "      <td>F</td>\n",
       "      <td>2016-04-29T17:29:31Z</td>\n",
       "      <td>2016-04-29T00:00:00Z</td>\n",
       "      <td>8</td>\n",
       "      <td>PONTAL DE CAMBURI</td>\n",
       "      <td>0</td>\n",
       "      <td>0</td>\n",
       "      <td>0</td>\n",
       "      <td>0</td>\n",
       "      <td>0</td>\n",
       "      <td>0</td>\n",
       "      <td>0</td>\n",
       "    </tr>\n",
       "    <tr>\n",
       "      <th>4</th>\n",
       "      <td>8.841186e+12</td>\n",
       "      <td>5642494</td>\n",
       "      <td>F</td>\n",
       "      <td>2016-04-29T16:07:23Z</td>\n",
       "      <td>2016-04-29T00:00:00Z</td>\n",
       "      <td>56</td>\n",
       "      <td>JARDIM DA PENHA</td>\n",
       "      <td>0</td>\n",
       "      <td>1</td>\n",
       "      <td>1</td>\n",
       "      <td>0</td>\n",
       "      <td>0</td>\n",
       "      <td>0</td>\n",
       "      <td>0</td>\n",
       "    </tr>\n",
       "  </tbody>\n",
       "</table>\n",
       "</div>"
      ],
      "text/plain": [
       "      PatientId  AppointmentID Gender          ScheduledDay  \\\n",
       "0  2.987250e+13        5642903      F  2016-04-29T18:38:08Z   \n",
       "1  5.589978e+14        5642503      M  2016-04-29T16:08:27Z   \n",
       "2  4.262962e+12        5642549      F  2016-04-29T16:19:04Z   \n",
       "3  8.679512e+11        5642828      F  2016-04-29T17:29:31Z   \n",
       "4  8.841186e+12        5642494      F  2016-04-29T16:07:23Z   \n",
       "\n",
       "         AppointmentDay  Age      Neighbourhood  Scholarship  Hipertension  \\\n",
       "0  2016-04-29T00:00:00Z   62    JARDIM DA PENHA            0             1   \n",
       "1  2016-04-29T00:00:00Z   56    JARDIM DA PENHA            0             0   \n",
       "2  2016-04-29T00:00:00Z   62      MATA DA PRAIA            0             0   \n",
       "3  2016-04-29T00:00:00Z    8  PONTAL DE CAMBURI            0             0   \n",
       "4  2016-04-29T00:00:00Z   56    JARDIM DA PENHA            0             1   \n",
       "\n",
       "   Diabetes  Alcoholism  Handcap  SMS_received  No-show  \n",
       "0         0           0        0             0        0  \n",
       "1         0           0        0             0        0  \n",
       "2         0           0        0             0        0  \n",
       "3         0           0        0             0        0  \n",
       "4         1           0        0             0        0  "
      ]
     },
     "execution_count": 4,
     "metadata": {},
     "output_type": "execute_result"
    }
   ],
   "source": [
    "df['No-show'] = df['No-show'].map({'Yes': 1, 'No': 0})\n",
    "df.head()\n"
   ]
  },
  {
   "cell_type": "markdown",
   "id": "1eb769c8",
   "metadata": {
    "papermill": {
     "duration": 0.003267,
     "end_time": "2025-08-01T18:46:36.452450",
     "exception": false,
     "start_time": "2025-08-01T18:46:36.449183",
     "status": "completed"
    },
    "tags": []
   },
   "source": [
    "### 🧹 Cleaned Dataset\n",
    "\n",
    "We converted the target variable `No-show` into binary form:\n",
    "- 1 → Did not show up\n",
    "- 0 → Showed up\n",
    "\n",
    "This allows us to treat each appointment as a Bernoulli trial.\n"
   ]
  },
  {
   "cell_type": "code",
   "execution_count": 5,
   "id": "89d7a0c6",
   "metadata": {
    "execution": {
     "iopub.execute_input": "2025-08-01T18:46:36.460443Z",
     "iopub.status.busy": "2025-08-01T18:46:36.459674Z",
     "iopub.status.idle": "2025-08-01T18:46:36.465351Z",
     "shell.execute_reply": "2025-08-01T18:46:36.464393Z"
    },
    "papermill": {
     "duration": 0.01099,
     "end_time": "2025-08-01T18:46:36.466642",
     "exception": false,
     "start_time": "2025-08-01T18:46:36.455652",
     "status": "completed"
    },
    "tags": []
   },
   "outputs": [
    {
     "name": "stdout",
     "output_type": "stream",
     "text": [
      "Estimated probability of No-show (p)=0.20193255946510807\n"
     ]
    }
   ],
   "source": [
    "p=df['No-show'].mean()\n",
    "n=100\n",
    "print(f\"Estimated probability of No-show (p)={p}\")\n"
   ]
  },
  {
   "cell_type": "markdown",
   "id": "8b4cf40f",
   "metadata": {
    "papermill": {
     "duration": 0.003159,
     "end_time": "2025-08-01T18:46:36.473446",
     "exception": false,
     "start_time": "2025-08-01T18:46:36.470287",
     "status": "completed"
    },
    "tags": []
   },
   "source": [
    "### 📌 Probability of No-Show\n",
    "\n",
    "From the data:\n",
    "- Estimated probability `p` = ~0.20 (20%)\n",
    "- Total number of trials (n) = 100 (for simulation)\n",
    "\n",
    "Each appointment is an independent Bernoulli trial. The total number of no-shows in `n` appointments follows a **binomial distribution**:  \n",
    "**X ~ Binomial(n=100, p=0.20)**\n"
   ]
  },
  {
   "cell_type": "code",
   "execution_count": 6,
   "id": "d1fcd11b",
   "metadata": {
    "execution": {
     "iopub.execute_input": "2025-08-01T18:46:36.481169Z",
     "iopub.status.busy": "2025-08-01T18:46:36.480828Z",
     "iopub.status.idle": "2025-08-01T18:46:36.488547Z",
     "shell.execute_reply": "2025-08-01T18:46:36.487834Z"
    },
    "papermill": {
     "duration": 0.013121,
     "end_time": "2025-08-01T18:46:36.489821",
     "exception": false,
     "start_time": "2025-08-01T18:46:36.476700",
     "status": "completed"
    },
    "tags": []
   },
   "outputs": [],
   "source": [
    "x=np.arange(0,n+1)   #makes a array with numbers containing from 0 to n\n",
    "pmf=binom.pmf(x,n,p)"
   ]
  },
  {
   "cell_type": "code",
   "execution_count": 7,
   "id": "c8d6d363",
   "metadata": {
    "execution": {
     "iopub.execute_input": "2025-08-01T18:46:36.497645Z",
     "iopub.status.busy": "2025-08-01T18:46:36.497365Z",
     "iopub.status.idle": "2025-08-01T18:46:36.920411Z",
     "shell.execute_reply": "2025-08-01T18:46:36.919515Z"
    },
    "papermill": {
     "duration": 0.428557,
     "end_time": "2025-08-01T18:46:36.921781",
     "exception": false,
     "start_time": "2025-08-01T18:46:36.493224",
     "status": "completed"
    },
    "tags": []
   },
   "outputs": [
    {
     "data": {
      "text/plain": [
       "<function matplotlib.pyplot.show(close=None, block=None)>"
      ]
     },
     "execution_count": 7,
     "metadata": {},
     "output_type": "execute_result"
    },
    {
     "data": {
      "image/png": "[encoded data removed]",
      "text/plain": [
       "<Figure size 1000x800 with 1 Axes>"
      ]
     },
     "metadata": {},
     "output_type": "display_data"
    }
   ],
   "source": [
    "plt.figure(figsize=(10,8))\n",
    "plt.bar(x,pmf,color='purple',edgecolor='black')\n",
    "plt.xlabel('Number of Successes')\n",
    "plt.ylabel('Probability')\n",
    "plt.title(f'Binominal PMF (n={n},p={p})')\n",
    "plt.grid()\n",
    "plt.show\n"
   ]
  },
  {
   "cell_type": "code",
   "execution_count": 8,
   "id": "13d817af",
   "metadata": {
    "execution": {
     "iopub.execute_input": "2025-08-01T18:46:36.931206Z",
     "iopub.status.busy": "2025-08-01T18:46:36.930859Z",
     "iopub.status.idle": "2025-08-01T18:46:37.109662Z",
     "shell.execute_reply": "2025-08-01T18:46:37.108868Z"
    },
    "papermill": {
     "duration": 0.18521,
     "end_time": "2025-08-01T18:46:37.111224",
     "exception": false,
     "start_time": "2025-08-01T18:46:36.926014",
     "status": "completed"
    },
    "tags": []
   },
   "outputs": [
    {
     "data": {
      "image/png": "[encoded data removed]",
      "text/plain": [
       "<Figure size 800x600 with 1 Axes>"
      ]
     },
     "metadata": {},
     "output_type": "display_data"
    }
   ],
   "source": [
    "cdf = binom.cdf(x, n, p)\n",
    "plt.figure(figsize=(8, 6))\n",
    "plt.plot(x, cdf, color='pink', marker='o', linestyle='-', linewidth=2)\n",
    "plt.title('Binomial Distribution CDF (n=10, p=0.5)', fontsize=14)\n",
    "plt.xlabel('Number of successes (x)', fontsize=12)\n",
    "plt.ylabel('Cumulative Probability', fontsize=12)\n",
    "plt.grid(True)\n",
    "plt.show()\n",
    "\n"
   ]
  },
  {
   "cell_type": "markdown",
   "id": "1aed39f9",
   "metadata": {
    "papermill": {
     "duration": 0.005422,
     "end_time": "2025-08-01T18:46:37.121761",
     "exception": false,
     "start_time": "2025-08-01T18:46:37.116339",
     "status": "completed"
    },
    "tags": []
   },
   "source": [
    "### 📊 Visualization\n",
    "\n",
    "This plot shows the probability distribution of the number of patients not showing up out of 100 scheduled appointments.\n",
    "\n",
    "Most probable outcome ≈ 20 no-shows.  \n",
    "It’s highly unlikely to have more than 35 no-shows.\n"
   ]
  },
  {
   "cell_type": "markdown",
   "id": "22a221b2",
   "metadata": {
    "papermill": {
     "duration": 0.004506,
     "end_time": "2025-08-01T18:46:37.130905",
     "exception": false,
     "start_time": "2025-08-01T18:46:37.126399",
     "status": "completed"
    },
    "tags": []
   },
   "source": [
    "### ✅ Conclusion\n",
    "\n",
    "- We modeled the patient appointment data using a **Binomial Distribution**, treating each appointment as a Bernoulli trial (either the patient shows up or doesn't).\n",
    "- The overall **probability of a no-show** in this dataset is approximately **20%** (`p ≈ 0.20`).\n",
    "- Using this, we visualized the **distribution of expected no-shows** out of 100 appointments.\n",
    "- The binomial model gives valuable insight into **how many missed appointments a clinic should expect** and helps in planning resources (doctors, staff, beds).\n",
    "\n",
    "📌 This type of statistical modeling is crucial in healthcare operations to:\n",
    "- Anticipate **patient turnout**\n",
    "- Avoid **overbooking or underutilization**\n",
    "- Drive decisions like **sending reminders or scheduling follow-ups**\n"
   ]
  }
 ],
 "metadata": {
  "kaggle": {
   "accelerator": "none",
   "dataSources": [
    {
     "datasetId": 792,
     "sourceId": 3538,
     "sourceType": "datasetVersion"
    }
   ],
   "dockerImageVersionId": 31089,
   "isGpuEnabled": false,
   "isInternetEnabled": true,
   "language": "python",
   "sourceType": "notebook"
  },
  "kernelspec": {
   "display_name": "Python 3",
   "language": "python",
   "name": "python3"
  },
  "language_info": {
   "codemirror_mode": {
    "name": "ipython",
    "version": 3
   },
   "file_extension": ".py",
   "mimetype": "text/x-python",
   "name": "python",
   "nbconvert_exporter": "python",
   "pygments_lexer": "ipython3",
   "version": "3.11.13"
  },
  "papermill": {
   "default_parameters": {},
   "duration": 9.781403,
   "end_time": "2025-08-01T18:46:37.755293",
   "environment_variables": {},
   "exception": null,
   "input_path": "__notebook__.ipynb",
   "output_path": "__notebook__.ipynb",
   "parameters": {},
   "start_time": "2025-08-01T18:46:27.973890",
   "version": "2.6.0"
  }
 },
 "nbformat": 4,
 "nbformat_minor": 5
}
